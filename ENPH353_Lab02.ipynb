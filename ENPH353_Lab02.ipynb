{
  "nbformat": 4,
  "nbformat_minor": 0,
  "metadata": {
    "colab": {
      "provenance": [],
      "collapsed_sections": [],
      "toc_visible": true,
      "mount_file_id": "1m-Gf9YahG49pwhAKg2D4W5ahRyzJ_6qc",
      "authorship_tag": "ABX9TyM4r8evNNEa9nDq3pvyt9C/",
      "include_colab_link": true
    },
    "kernelspec": {
      "name": "python3",
      "display_name": "Python 3"
    },
    "language_info": {
      "name": "python"
    }
  },
  "cells": [
    {
      "cell_type": "markdown",
      "metadata": {
        "id": "view-in-github",
        "colab_type": "text"
      },
      "source": [
        "<a href=\"https://colab.research.google.com/github/anqixxx/robotsummer/blob/main/ENPH353_Lab02.ipynb\" target=\"_parent\"><img src=\"https://colab.research.google.com/assets/colab-badge.svg\" alt=\"Open In Colab\"/></a>"
      ]
    },
    {
      "cell_type": "code",
      "execution_count": 2,
      "metadata": {
        "id": "_kYlB2WEZ6cY"
      },
      "outputs": [],
      "source": [
        "import cv2\n",
        "\n",
        "import numpy as np\n",
        "\n",
        "import matplotlib.pyplot as plt\n",
        "\n",
        "cv2.__version__\n",
        "\n",
        "# Open a video file to read from it:\n",
        "video_name = \"/content/drive/MyDrive/raw_video_feed.mp4\"\n",
        "video_reader = cv2.VideoCapture(video_name)\n",
        "ret, frame = video_reader.read()\n",
        "\n",
        "# Create a video file to write to:\n",
        "shape = frame.shape\n",
        "fourcc = cv2.VideoWriter_fourcc(*'MJPG')\n",
        "video_writer = cv2.VideoWriter('/content/drive/MyDrive/output.mp4', fourcc, 20, (shape[1], shape[0]))\n",
        "\n",
        "while (ret):  \n",
        "  # Now write the code to manipulate it\n",
        "  edges = cv2.Canny(frame, 100, 200)\n",
        "\n",
        "  xdim = edges.shape[0]\n",
        "  ydim = edges.shape[1]\n",
        "\n",
        "  x_arr =[]\n",
        "\n",
        "  for x in range(0, 319):\n",
        "    for y in range(229,239):\n",
        "        if (edges[y][x] == 255 ):\n",
        "          x_arr.append(x)\n",
        "\n",
        "  # Isolates the important x locations\n",
        "  x_set = set(x_arr)\n",
        "  x_arr_size = len(x_arr)\n",
        "  valued_arr = []\n",
        "\n",
        "  for val in x_set:\n",
        "    amount = 0\n",
        "\n",
        "    for i in range(0, x_arr_size):\n",
        "      if (x_arr[i] == val):\n",
        "        amount = amount + 1\n",
        "\n",
        "    sized_arr = [val, amount]\n",
        "    valued_arr.append(sized_arr)\n",
        "\n",
        "  # Find the \"spikes\"\n",
        "  max = 0\n",
        "  min = 320\n",
        "\n",
        "  for i in range (0, len(valued_arr)):\n",
        "    if (valued_arr[i][0] > max):\n",
        "      max = valued_arr[i][0]\n",
        "\n",
        "    if (valued_arr[i][0] < min):\n",
        "      min = valued_arr[i][0]  \n",
        "    \n",
        "  center = (min+max)/2\n",
        "\n",
        "  cv2.circle(frame, (int(center), 230), 10, ( 178, 172,136), -1)\n",
        "\n",
        "  video_writer.write(frame)\n",
        "\n",
        "  # plt.imshow(frame)\n",
        "  # plt.show()\n",
        "\n",
        "  ret, frame = video_reader.read()\n",
        "\n",
        "video_reader.release()\n",
        "video_writer.release()"
      ]
    }
  ]
}